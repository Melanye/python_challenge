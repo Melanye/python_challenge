{
 "cells": [
  {
   "cell_type": "code",
   "execution_count": 1,
   "metadata": {
    "collapsed": true
   },
   "outputs": [],
   "source": [
    "## MTAYLOR\n",
    "\n",
    "# import modules\n",
    "import os\n",
    "import csv\n",
    "from collections import Counter"
   ]
  },
  {
   "cell_type": "code",
   "execution_count": 2,
   "metadata": {
    "collapsed": true
   },
   "outputs": [],
   "source": [
    "# Create lists to store column data\n",
    "Voter_ID = []\n",
    "County = []\n",
    "Candidate = []"
   ]
  },
  {
   "cell_type": "code",
   "execution_count": null,
   "metadata": {
    "collapsed": true
   },
   "outputs": [],
   "source": [
    "# Ask user which file to open and transform\n",
    "user_input = input(\"Which polling results would you like to open? 1 or 2 ? \" )"
   ]
  },
  {
   "cell_type": "code",
   "execution_count": null,
   "metadata": {
    "collapsed": true
   },
   "outputs": [],
   "source": [
    "# Set the paths for the two csv files\n",
    "csvpath1 = os.path.join(\"raw_data\",\"election_data_1.csv\")\n",
    "csvpath2 = os.path.join(\"raw_data\",\"election_data_2.csv\")"
   ]
  },
  {
   "cell_type": "code",
   "execution_count": null,
   "metadata": {
    "collapsed": true
   },
   "outputs": [],
   "source": [
    "# Tie the user's choice to the file to be opened.\n",
    "if user_input==\"1\":\n",
    "    file_choice = csvpath1\n",
    "    print(\"You have chosen election_data_1\")\n",
    "\n",
    "elif user_input==\"2\":\n",
    "    file_choice = csvpath2\n",
    "    print(\"You have chosen election_data_2\")\n",
    "\n",
    "else:\n",
    "    file_choice = csvpath2\n",
    "    print(\"You have not made a valid choice. Opening election_data_2\")"
   ]
  },
  {
   "cell_type": "code",
   "execution_count": null,
   "metadata": {
    "collapsed": true
   },
   "outputs": [],
   "source": [
    "# Open the csv file\n",
    "with open(file_choice, newline ='') as csvfile1:\n",
    "    csvreader1 = csv.reader(csvfile1, delimiter=\",\")"
   ]
  },
  {
   "cell_type": "code",
   "execution_count": null,
   "metadata": {
    "collapsed": true
   },
   "outputs": [],
   "source": [
    "# Skip the header row\n",
    "     next(csvreader1)\n",
    "\n",
    "# Create lists for each column\n",
    "    for row in csvreader1:\n",
    "        Voter_ID.append(row[0])\n",
    "        County.append(row[1])\n",
    "        Candidate.append(row[2])"
   ]
  },
  {
   "cell_type": "code",
   "execution_count": null,
   "metadata": {
    "collapsed": true
   },
   "outputs": [],
   "source": [
    "# Count the total voters\n",
    "    voter_count = len(Voter_ID) \n",
    "    print(\"Voter Count: \" + str(voter_count))"
   ]
  },
  {
   "cell_type": "code",
   "execution_count": null,
   "metadata": {
    "collapsed": true
   },
   "outputs": [],
   "source": [
    "# Get a count of the unique candidates through collection.Counter\n",
    "    candidates = Candidate         \n",
    "    c = Counter(candidates)\n",
    "    print(\"Candidates and votes = \" + str(c.items()))"
   ]
  },
  {
   "cell_type": "code",
   "execution_count": null,
   "metadata": {
    "collapsed": true
   },
   "outputs": [],
   "source": [
    "# Write to the text file\n",
    "    with open(\"Output.txt\", \"w\") as text_file:\n",
    "    text_file.write(\"Election Results\" + \"\\n\")\n",
    "    text_file.write(\"-------------------------\" + \"\\n\")\n",
    "    text_file.write(\"Total Votes: \" + str(voter_count) + \"\\n\")\n",
    "    text_file.write(\"-------------------------\" + \"\\n\")"
   ]
  },
  {
   "cell_type": "code",
   "execution_count": null,
   "metadata": {
    "collapsed": true
   },
   "outputs": [],
   "source": []
  }
 ],
 "metadata": {
  "kernelspec": {
   "display_name": "Python 3",
   "language": "python",
   "name": "python3"
  },
  "language_info": {
   "codemirror_mode": {
    "name": "ipython",
    "version": 3
   },
   "file_extension": ".py",
   "mimetype": "text/x-python",
   "name": "python",
   "nbconvert_exporter": "python",
   "pygments_lexer": "ipython3",
   "version": "3.6.3"
  }
 },
 "nbformat": 4,
 "nbformat_minor": 2
}
